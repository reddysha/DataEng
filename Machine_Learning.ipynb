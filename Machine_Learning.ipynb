{
 "cells": [
  {
   "cell_type": "code",
   "execution_count": 12,
   "metadata": {},
   "outputs": [
    {
     "name": "stdout",
     "output_type": "stream",
     "text": [
      "(1728, 6)\n",
      "      buying maint doors persons lug_boot safety\n",
      "vhigh  vhigh     2     2   small      low  unacc\n",
      "vhigh  vhigh     2     2   small      med  unacc\n",
      "vhigh  vhigh     2     2   small     high  unacc\n",
      "vhigh  vhigh     2     2     med      low  unacc\n",
      "vhigh  vhigh     2     2     med      med  unacc\n",
      "vhigh  vhigh     2     2     med     high  unacc\n",
      "vhigh  vhigh     2     2     big      low  unacc\n",
      "vhigh  vhigh     2     2     big      med  unacc\n",
      "vhigh  vhigh     2     2     big     high  unacc\n",
      "vhigh  vhigh     2     4   small      low  unacc\n",
      "vhigh  vhigh     2     4   small      med  unacc\n",
      "vhigh  vhigh     2     4   small     high  unacc\n",
      "vhigh  vhigh     2     4     med      low  unacc\n",
      "vhigh  vhigh     2     4     med      med  unacc\n",
      "vhigh  vhigh     2     4     med     high  unacc\n",
      "vhigh  vhigh     2     4     big      low  unacc\n",
      "vhigh  vhigh     2     4     big      med  unacc\n",
      "vhigh  vhigh     2     4     big     high  unacc\n",
      "vhigh  vhigh     2  more   small      low  unacc\n",
      "vhigh  vhigh     2  more   small      med  unacc\n",
      "       buying maint doors persons lug_boot safety\n",
      "count    1728  1728  1728    1728     1728   1728\n",
      "unique      4     4     3       3        3      4\n",
      "top       low     2     2     big      low  unacc\n",
      "freq      432   432   576     576      576   1210\n"
     ]
    }
   ],
   "source": [
    "# make predictions\n",
    "from pandas import read_csv\n",
    "from sklearn.model_selection import train_test_split\n",
    "from sklearn.metrics import classification_report\n",
    "from sklearn.metrics import confusion_matrix\n",
    "from sklearn.metrics import accuracy_score\n",
    "from sklearn.svm import SVC\n",
    "# Load dataset\n",
    "url = \"https://archive.ics.uci.edu/ml/machine-learning-databases/car/car.data\"\n",
    "names = ['buying', 'maint', 'doors', 'persons', 'lug_boot','safety']\n",
    "dataset = read_csv(url, names=names)\n",
    "# # Split-out validation dataset\n",
    "# array = dataset.values\n",
    "# X = array[:,0:5]\n",
    "# y = array[:,5]\n",
    "# X_train, X_validation, Y_train, Y_validation = train_test_split(X, y, test_size=0.20, random_state=1)\n",
    "# # Make predictions on validation dataset\n",
    "# model = SVC(gamma='auto')\n",
    "# model.fit(X_train, Y_train)\n",
    "# predictions = model.predict(X_validation)\n",
    "# # Evaluate predictions\n",
    "# print(accuracy_score(Y_validation, predictions))\n",
    "# print(confusion_matrix(Y_validation, predictions))\n",
    "# print(classification_report(Y_validation, predictions))\n",
    "\n",
    "# shape\n",
    "print(dataset.shape)\n",
    "# head\n",
    "print(dataset.head(20))\n",
    "# descriptions\n",
    "print(dataset.describe())\n",
    "\n"
   ]
  },
  {
   "cell_type": "code",
   "execution_count": null,
   "metadata": {},
   "outputs": [],
   "source": []
  }
 ],
 "metadata": {
  "kernelspec": {
   "display_name": "Python 3",
   "language": "python",
   "name": "python3"
  },
  "language_info": {
   "codemirror_mode": {
    "name": "ipython",
    "version": 3
   },
   "file_extension": ".py",
   "mimetype": "text/x-python",
   "name": "python",
   "nbconvert_exporter": "python",
   "pygments_lexer": "ipython3",
   "version": "3.8.5"
  }
 },
 "nbformat": 4,
 "nbformat_minor": 4
}
