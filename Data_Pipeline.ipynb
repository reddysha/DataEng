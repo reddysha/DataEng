{
 "cells": [
  {
   "cell_type": "code",
   "execution_count": 21,
   "metadata": {},
   "outputs": [
    {
     "name": "stdout",
     "output_type": "stream",
     "text": [
      "C:/Users/user/Desktop/dataeng_test-master/dataset1.csv\n",
      "C:/Users/user/Desktop/dataeng_test-master/dataset2.csv\n"
     ]
    }
   ],
   "source": [
    "import pandas as pd\n",
    "\n",
    "#initialising variables\n",
    "\n",
    "files = [\"C:/Users/user/Desktop/dataeng_test-master/dataset1.csv\", \"C:/Users/user/Desktop/dataeng_test-master/dataset2.csv\"]\n",
    "output_file = \"C:/Users/user/Desktop/dataeng_test-master/dataset.csv\"\n",
    "dfs = []\n",
    "\n",
    "# below line of code reads the datafile parameterized in variable files and loads into dataframe df\n",
    "for file_ in files:\n",
    "    print(file_)\n",
    "    dfs.append(pd.read_csv(file_))\n",
    "df = pd.concat(dfs, ignore_index=True)\n",
    " \n",
    "# splitting the name and assigning into first_name and second_name columns\n",
    "df['first_name']=df.name.str.split(\" \", expand=True)[0]\n",
    "df['second_name']=df.name.str.split(\" \", expand=True)[1]\n",
    "\n",
    "#delete rows where name is empty or null\n",
    "df.drop(df[df.name.isna()].index, inplace=True)\n",
    "\n",
    "#create new column and assign True or False based on the condition price is above 100\n",
    "df[\"above_100\"]=df[\"price\"].astype(float)>100\n",
    "\n",
    "#write the dataframe into output csv file\n",
    "df[[\"first_name\", \"second_name\", \"price\", \"above_100\"]].to_csv(output_file, index=False)"
   ]
  },
  {
   "cell_type": "code",
   "execution_count": 16,
   "metadata": {},
   "outputs": [
    {
     "data": {
      "text/html": [
       "<div>\n",
       "<style scoped>\n",
       "    .dataframe tbody tr th:only-of-type {\n",
       "        vertical-align: middle;\n",
       "    }\n",
       "\n",
       "    .dataframe tbody tr th {\n",
       "        vertical-align: top;\n",
       "    }\n",
       "\n",
       "    .dataframe thead th {\n",
       "        text-align: right;\n",
       "    }\n",
       "</style>\n",
       "<table border=\"1\" class=\"dataframe\">\n",
       "  <thead>\n",
       "    <tr style=\"text-align: right;\">\n",
       "      <th></th>\n",
       "      <th>name</th>\n",
       "      <th>price</th>\n",
       "    </tr>\n",
       "  </thead>\n",
       "  <tbody>\n",
       "    <tr>\n",
       "      <th>0</th>\n",
       "      <td>William Dixon</td>\n",
       "      <td>109.037280</td>\n",
       "    </tr>\n",
       "    <tr>\n",
       "      <th>1</th>\n",
       "      <td>Kristen Horn</td>\n",
       "      <td>262.524652</td>\n",
       "    </tr>\n",
       "    <tr>\n",
       "      <th>2</th>\n",
       "      <td>Kimberly Chang</td>\n",
       "      <td>187.007258</td>\n",
       "    </tr>\n",
       "    <tr>\n",
       "      <th>3</th>\n",
       "      <td>Mary Ball</td>\n",
       "      <td>283.174648</td>\n",
       "    </tr>\n",
       "    <tr>\n",
       "      <th>4</th>\n",
       "      <td>Benjamin Craig</td>\n",
       "      <td>143.871582</td>\n",
       "    </tr>\n",
       "    <tr>\n",
       "      <th>...</th>\n",
       "      <td>...</td>\n",
       "      <td>...</td>\n",
       "    </tr>\n",
       "    <tr>\n",
       "      <th>4995</th>\n",
       "      <td>Shirley Nguyen</td>\n",
       "      <td>9.011665</td>\n",
       "    </tr>\n",
       "    <tr>\n",
       "      <th>4996</th>\n",
       "      <td>Jesse Brown</td>\n",
       "      <td>247.328232</td>\n",
       "    </tr>\n",
       "    <tr>\n",
       "      <th>4997</th>\n",
       "      <td>Valerie Owens</td>\n",
       "      <td>238.103714</td>\n",
       "    </tr>\n",
       "    <tr>\n",
       "      <th>4998</th>\n",
       "      <td>Alicia Sharp</td>\n",
       "      <td>243.622929</td>\n",
       "    </tr>\n",
       "    <tr>\n",
       "      <th>4999</th>\n",
       "      <td>Sherry Jensen</td>\n",
       "      <td>13.839516</td>\n",
       "    </tr>\n",
       "  </tbody>\n",
       "</table>\n",
       "<p>5000 rows × 2 columns</p>\n",
       "</div>"
      ],
      "text/plain": [
       "                name       price\n",
       "0      William Dixon  109.037280\n",
       "1       Kristen Horn  262.524652\n",
       "2     Kimberly Chang  187.007258\n",
       "3          Mary Ball  283.174648\n",
       "4     Benjamin Craig  143.871582\n",
       "...              ...         ...\n",
       "4995  Shirley Nguyen    9.011665\n",
       "4996     Jesse Brown  247.328232\n",
       "4997   Valerie Owens  238.103714\n",
       "4998    Alicia Sharp  243.622929\n",
       "4999   Sherry Jensen   13.839516\n",
       "\n",
       "[5000 rows x 2 columns]"
      ]
     },
     "execution_count": 16,
     "metadata": {},
     "output_type": "execute_result"
    }
   ],
   "source": []
  },
  {
   "cell_type": "code",
   "execution_count": null,
   "metadata": {},
   "outputs": [],
   "source": []
  },
  {
   "cell_type": "code",
   "execution_count": null,
   "metadata": {},
   "outputs": [],
   "source": []
  }
 ],
 "metadata": {
  "kernelspec": {
   "display_name": "Python 3",
   "language": "python",
   "name": "python3"
  },
  "language_info": {
   "codemirror_mode": {
    "name": "ipython",
    "version": 3
   },
   "file_extension": ".py",
   "mimetype": "text/x-python",
   "name": "python",
   "nbconvert_exporter": "python",
   "pygments_lexer": "ipython3",
   "version": "3.8.5"
  }
 },
 "nbformat": 4,
 "nbformat_minor": 4
}
