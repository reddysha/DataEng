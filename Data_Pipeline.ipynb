{
 "cells": [
  {
   "cell_type": "code",
   "execution_count": 1,
   "metadata": {},
   "outputs": [
    {
     "name": "stdout",
     "output_type": "stream",
     "text": [
      "C:/Users/hp/Downloads/dataeng_test-master/dataset1.csv\n",
      "C:/Users/hp/Downloads/dataeng_test-master/dataset2.csv\n"
     ]
    }
   ],
   "source": [
    "\n",
    "import pandas as pd\n",
    "\n",
    "#initialising variables\n",
    "\n",
    "files = [\"C:/Users/hp/Downloads/dataeng_test-master/dataset1.csv\", \"C:/Users/hp/Downloads/dataeng_test-master/dataset2.csv\"]\n",
    "output_file = \"C:/Users/hp/Downloads/dataeng_test-master/dataset.csv\"\n",
    "dfs = []\n",
    "\n",
    "# below line of code reads the datafile parameterized in variable files and loads into dataframe df\n",
    "for file_ in files:\n",
    "    print(file_)\n",
    "    dfs.append(pd.read_csv(file_))\n",
    "df = pd.concat(dfs, ignore_index=True)\n",
    " \n",
    "# splitting the name and assigning into first_name and second_name columns\n",
    "df['first_name']=df.name.str.split(\" \", expand=True)[0]\n",
    "df['second_name']=df.name.str.split(\" \", expand=True)[1]\n",
    "\n",
    "#delete rows where name is empty or null\n",
    "df.drop(df[df.name.isna()].index, inplace=True)\n",
    "\n",
    "#create new column and assign True or False based on the condition price is above 100\n",
    "df[\"above_100\"]=df[\"price\"].astype(float)>100\n",
    "\n",
    "#write the dataframe into output csv file\n",
    "df[[\"first_name\", \"second_name\", \"price\", \"above_100\"]].to_csv(output_file, index=False)"
   ]
  },
  {
   "cell_type": "code",
   "execution_count": null,
   "metadata": {},
   "outputs": [],
   "source": []
  }
 ],
 "metadata": {
  "kernelspec": {
   "display_name": "Python 3",
   "language": "python",
   "name": "python3"
  },
  "language_info": {
   "codemirror_mode": {
    "name": "ipython",
    "version": 3
   },
   "file_extension": ".py",
   "mimetype": "text/x-python",
   "name": "python",
   "nbconvert_exporter": "python",
   "pygments_lexer": "ipython3",
   "version": "3.8.5"
  }
 },
 "nbformat": 4,
 "nbformat_minor": 4
}
